{
 "cells": [
  {
   "cell_type": "code",
   "execution_count": null,
   "id": "2971958a-b84a-428e-838d-a7c6bbcd9384",
   "metadata": {},
   "outputs": [
    {
     "name": "stdout",
     "output_type": "stream",
     "text": [
      "Welcome to the Mad Libs game! Please provide the following words:\n"
     ]
    }
   ],
   "source": [
    "# Step 1: Define the story template\n",
    "story_template = \"\"\"\n",
    "Once upon a time, there was a {adjective} {noun} who loved to {verb} {adverb}. \n",
    "One day, the {noun} decided to go on an adventure to find the legendary {adjective2} {noun2}. \n",
    "Along the way, the {noun} met a {adjective3} {noun3} who offered to help. \n",
    "Together, they {verb2} {adverb2} through the {adjective4} {place} until they finally found the {adjective2} {noun2}. \n",
    "It was a {adjective5} day!\n",
    "\"\"\"\n",
    "\n",
    "# Step 2: Collect all user inputs in one go\n",
    "print(\"Welcome to the Mad Libs game! Please provide the following words:\")\n",
    "\n",
    "# Collect all inputs in a single cell\n",
    "adjective = input(\"Enter an adjective: \")\n",
    "noun = input(\"Enter a noun: \")\n",
    "verb = input(\"Enter a verb: \")\n",
    "adverb = input(\"Enter an adverb: \")\n",
    "adjective2 = input(\"Enter another adjective: \")\n",
    "noun2 = input(\"Enter another noun: \")\n",
    "adjective3 = input(\"Enter another adjective: \")\n",
    "noun3 = input(\"Enter another noun: \")\n",
    "verb2 = input(\"Enter another verb: \")\n",
    "adverb2 = input(\"Enter another adverb: \")\n",
    "adjective4 = input(\"Enter another adjective: \")\n",
    "place = input(\"Enter a place: \")\n",
    "adjective5 = input(\"Enter one more adjective: \")\n",
    "\n",
    "# Step 3: Fill in the story with user input\n",
    "story = story_template.format(\n",
    "    adjective=adjective,\n",
    "    noun=noun,\n",
    "    verb=verb,\n",
    "    adverb=adverb,\n",
    "    adjective2=adjective2,\n",
    "    noun2=noun2,\n",
    "    adjective3=adjective3,\n",
    "    noun3=noun3,\n",
    "    verb2=verb2,\n",
    "    adverb2=adverb2,\n",
    "    adjective4=adjective4,\n",
    "    place=place,\n",
    "    adjective5=adjective5\n",
    ")\n",
    "\n",
    "# Step 4: Display the completed story\n",
    "print(\"\\nHere's your Mad Libs story:\\n\")\n",
    "print(story)"
   ]
  },
  {
   "cell_type": "code",
   "execution_count": null,
   "id": "1ac25b24-60eb-4299-b368-844081f152ea",
   "metadata": {},
   "outputs": [],
   "source": []
  }
 ],
 "metadata": {
  "kernelspec": {
   "display_name": "Python 3 (ipykernel)",
   "language": "python",
   "name": "python3"
  },
  "language_info": {
   "codemirror_mode": {
    "name": "ipython",
    "version": 3
   },
   "file_extension": ".py",
   "mimetype": "text/x-python",
   "name": "python",
   "nbconvert_exporter": "python",
   "pygments_lexer": "ipython3",
   "version": "3.12.4"
  }
 },
 "nbformat": 4,
 "nbformat_minor": 5
}
